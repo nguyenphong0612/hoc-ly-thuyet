{
 "cells": [
  {
   "cell_type": "markdown",
   "id": "576259a3-995c-4a87-8ca4-fb4e41ea0e08",
   "metadata": {},
   "source": [
    "## Bài 1\n",
    "Viết chương trình nhập vào 2 số nguyên `num1` và `num2`. In ra tích của 2 số nguyên đó."
   ]
  },
  {
   "cell_type": "code",
   "execution_count": 2,
   "id": "a845a708-641b-47d3-a646-b9434d383a56",
   "metadata": {},
   "outputs": [
    {
     "name": "stdin",
     "output_type": "stream",
     "text": [
      "nhap vao so nguyen thu 1:  15\n",
      "nhap vao so nguyen thu 2:  23\n"
     ]
    },
    {
     "name": "stdout",
     "output_type": "stream",
     "text": [
      "tich cua 2 so nguyen là:  345\n"
     ]
    }
   ],
   "source": [
    "num1 = int(input(\"nhap vao so nguyen thu 1: \"))\n",
    "num2 = int(input(\"nhap vao so nguyen thu 2: \"))\n",
    "print(\"tich cua 2 so nguyen là: \", num1*num2)"
   ]
  },
  {
   "cell_type": "markdown",
   "id": "065aaeb8-9268-4200-bada-28ae0531e7d3",
   "metadata": {},
   "source": [
    "## Bài 2 \n",
    "Nhập vào ba biến `diem_toan`, `diem_ly`, `diem_hoa` và in ra điểm trung bình của ba môn học trên."
   ]
  },
  {
   "cell_type": "code",
   "execution_count": 3,
   "id": "3c03f829-a639-41b3-8444-61c12c0b6d9c",
   "metadata": {},
   "outputs": [
    {
     "name": "stdin",
     "output_type": "stream",
     "text": [
      "nhap diem mon toan:  8\n",
      "nhap diem mon ly:  9\n",
      "nhap diem mon hoa:  10\n"
     ]
    },
    {
     "name": "stdout",
     "output_type": "stream",
     "text": [
      "9.0 = 8+9+10/3\n"
     ]
    }
   ],
   "source": [
    "diem_toan = int(input(\"nhap diem mon toan: \"))\n",
    "diem_ly = int(input(\"nhap diem mon ly: \"))\n",
    "diem_hoa = int(input(\"nhap diem mon hoa: \"))\n",
    "diem_TB = (diem_toan+diem_ly+diem_hoa)/3\n",
    "print(f\"diem_TB = {diem_TB} = {diem_toan}+{diem_ly}+{diem_hoa}/3\")"
   ]
  },
  {
   "cell_type": "code",
   "execution_count": null,
   "id": "02b22e36-073d-4d7b-9d77-24988a1fde5f",
   "metadata": {},
   "outputs": [],
   "source": [
    "## Bài 3\n",
    "Nhập vào vận tốc của đoàn tàu theo đơn vị km/h.\n",
    "\n",
    "a. Hỏi trung bình mỗi phút đoàn tàu đi được bao nhiêu mét?\n",
    "\n",
    "b. Sau 1 giờ 12 phút đoàn tàu đi được bao nhiêu km?"
   ]
  },
  {
   "cell_type": "code",
   "execution_count": 8,
   "id": "85c79b57-8e91-49ff-b063-c4695a6e996a",
   "metadata": {},
   "outputs": [
    {
     "name": "stdin",
     "output_type": "stream",
     "text": [
      "nhap vao van toc doan tau:  60\n"
     ]
    },
    {
     "name": "stdout",
     "output_type": "stream",
     "text": [
      "trung binh moi phut di duoc: 1000.0 m/p\n",
      "sau 1h12p doan tau di duoc: 72.0 km\n"
     ]
    }
   ],
   "source": [
    "v_h = int(input(\"nhap vao van toc doan tau: \"))\n",
    "v_m = (v_h*1000)/60\n",
    "s_1h12 = v_h*(1+0.2)\n",
    "print(f\"trung binh moi phut di duoc: {v_m} m/p\\nsau 1h12p doan tau di duoc: {s_1h12} km\")"
   ]
  },
  {
   "cell_type": "code",
   "execution_count": null,
   "id": "05255576-0850-41ec-b7f1-00f2bf15f50f",
   "metadata": {},
   "outputs": [],
   "source": []
  }
 ],
 "metadata": {
  "kernelspec": {
   "display_name": "Python 3 (ipykernel)",
   "language": "python",
   "name": "python3"
  },
  "language_info": {
   "codemirror_mode": {
    "name": "ipython",
    "version": 3
   },
   "file_extension": ".py",
   "mimetype": "text/x-python",
   "name": "python",
   "nbconvert_exporter": "python",
   "pygments_lexer": "ipython3",
   "version": "3.12.2"
  }
 },
 "nbformat": 4,
 "nbformat_minor": 5
}
