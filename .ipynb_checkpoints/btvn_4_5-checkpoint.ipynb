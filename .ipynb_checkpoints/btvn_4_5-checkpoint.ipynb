{
 "cells": [
  {
   "cell_type": "code",
   "execution_count": 2,
   "id": "5d9560a5",
   "metadata": {
    "scrolled": true
   },
   "outputs": [
    {
     "name": "stdin",
     "output_type": "stream",
     "text": [
      "please input edge and color:  5 blue\n"
     ]
    },
    {
     "name": "stdout",
     "output_type": "stream",
     "text": [
      "5\n"
     ]
    },
    {
     "ename": "Terminator",
     "evalue": "",
     "output_type": "error",
     "traceback": [
      "\u001b[1;31m---------------------------------------------------------------------------\u001b[0m",
      "\u001b[1;31mTerminator\u001b[0m                                Traceback (most recent call last)",
      "Cell \u001b[1;32mIn[2], line 10\u001b[0m\n\u001b[0;32m      8\u001b[0m \u001b[38;5;28mprint\u001b[39m(e)\n\u001b[0;32m      9\u001b[0m color \u001b[38;5;241m=\u001b[39m edge_color[edge_color\u001b[38;5;241m.\u001b[39mindex(\u001b[38;5;124m\"\u001b[39m\u001b[38;5;124m \u001b[39m\u001b[38;5;124m\"\u001b[39m)\u001b[38;5;241m+\u001b[39m\u001b[38;5;241m1\u001b[39m:]\n\u001b[1;32m---> 10\u001b[0m tr \u001b[38;5;241m=\u001b[39m \u001b[43mturtle\u001b[49m\u001b[38;5;241;43m.\u001b[39;49m\u001b[43mTurtle\u001b[49m\u001b[43m(\u001b[49m\u001b[43m)\u001b[49m\n\u001b[0;32m     11\u001b[0m tr\u001b[38;5;241m.\u001b[39mshape(\u001b[38;5;124m\"\u001b[39m\u001b[38;5;124mtriangle\u001b[39m\u001b[38;5;124m\"\u001b[39m)\n\u001b[0;32m     12\u001b[0m tr\u001b[38;5;241m.\u001b[39mfillcolor(color)\n",
      "File \u001b[1;32m~\\AppData\\Local\\Programs\\Python\\Python312\\Lib\\turtle.py:3876\u001b[0m, in \u001b[0;36mTurtle.__init__\u001b[1;34m(self, shape, undobuffersize, visible)\u001b[0m\n\u001b[0;32m   3874\u001b[0m \u001b[38;5;28;01mif\u001b[39;00m Turtle\u001b[38;5;241m.\u001b[39m_screen \u001b[38;5;129;01mis\u001b[39;00m \u001b[38;5;28;01mNone\u001b[39;00m:\n\u001b[0;32m   3875\u001b[0m     Turtle\u001b[38;5;241m.\u001b[39m_screen \u001b[38;5;241m=\u001b[39m Screen()\n\u001b[1;32m-> 3876\u001b[0m \u001b[43mRawTurtle\u001b[49m\u001b[38;5;241;43m.\u001b[39;49m\u001b[38;5;21;43m__init__\u001b[39;49m\u001b[43m(\u001b[49m\u001b[38;5;28;43mself\u001b[39;49m\u001b[43m,\u001b[49m\u001b[43m \u001b[49m\u001b[43mTurtle\u001b[49m\u001b[38;5;241;43m.\u001b[39;49m\u001b[43m_screen\u001b[49m\u001b[43m,\u001b[49m\n\u001b[0;32m   3877\u001b[0m \u001b[43m                   \u001b[49m\u001b[43mshape\u001b[49m\u001b[38;5;241;43m=\u001b[39;49m\u001b[43mshape\u001b[49m\u001b[43m,\u001b[49m\n\u001b[0;32m   3878\u001b[0m \u001b[43m                   \u001b[49m\u001b[43mundobuffersize\u001b[49m\u001b[38;5;241;43m=\u001b[39;49m\u001b[43mundobuffersize\u001b[49m\u001b[43m,\u001b[49m\n\u001b[0;32m   3879\u001b[0m \u001b[43m                   \u001b[49m\u001b[43mvisible\u001b[49m\u001b[38;5;241;43m=\u001b[39;49m\u001b[43mvisible\u001b[49m\u001b[43m)\u001b[49m\n",
      "File \u001b[1;32m~\\AppData\\Local\\Programs\\Python\\Python312\\Lib\\turtle.py:2565\u001b[0m, in \u001b[0;36mRawTurtle.__init__\u001b[1;34m(self, canvas, shape, undobuffersize, visible)\u001b[0m\n\u001b[0;32m   2563\u001b[0m \u001b[38;5;28mself\u001b[39m\u001b[38;5;241m.\u001b[39m_undobuffersize \u001b[38;5;241m=\u001b[39m undobuffersize\n\u001b[0;32m   2564\u001b[0m \u001b[38;5;28mself\u001b[39m\u001b[38;5;241m.\u001b[39mundobuffer \u001b[38;5;241m=\u001b[39m Tbuffer(undobuffersize)\n\u001b[1;32m-> 2565\u001b[0m \u001b[38;5;28;43mself\u001b[39;49m\u001b[38;5;241;43m.\u001b[39;49m\u001b[43m_update\u001b[49m\u001b[43m(\u001b[49m\u001b[43m)\u001b[49m\n",
      "File \u001b[1;32m~\\AppData\\Local\\Programs\\Python\\Python312\\Lib\\turtle.py:2668\u001b[0m, in \u001b[0;36mRawTurtle._update\u001b[1;34m(self)\u001b[0m\n\u001b[0;32m   2666\u001b[0m     \u001b[38;5;28;01mreturn\u001b[39;00m\n\u001b[0;32m   2667\u001b[0m \u001b[38;5;28;01melif\u001b[39;00m screen\u001b[38;5;241m.\u001b[39m_tracing \u001b[38;5;241m==\u001b[39m \u001b[38;5;241m1\u001b[39m:\n\u001b[1;32m-> 2668\u001b[0m     \u001b[38;5;28;43mself\u001b[39;49m\u001b[38;5;241;43m.\u001b[39;49m\u001b[43m_update_data\u001b[49m\u001b[43m(\u001b[49m\u001b[43m)\u001b[49m\n\u001b[0;32m   2669\u001b[0m     \u001b[38;5;28mself\u001b[39m\u001b[38;5;241m.\u001b[39m_drawturtle()\n\u001b[0;32m   2670\u001b[0m     screen\u001b[38;5;241m.\u001b[39m_update()                  \u001b[38;5;66;03m# TurtleScreenBase\u001b[39;00m\n",
      "File \u001b[1;32m~\\AppData\\Local\\Programs\\Python\\Python312\\Lib\\turtle.py:2654\u001b[0m, in \u001b[0;36mRawTurtle._update_data\u001b[1;34m(self)\u001b[0m\n\u001b[0;32m   2653\u001b[0m \u001b[38;5;28;01mdef\u001b[39;00m \u001b[38;5;21m_update_data\u001b[39m(\u001b[38;5;28mself\u001b[39m):\n\u001b[1;32m-> 2654\u001b[0m     \u001b[38;5;28;43mself\u001b[39;49m\u001b[38;5;241;43m.\u001b[39;49m\u001b[43mscreen\u001b[49m\u001b[38;5;241;43m.\u001b[39;49m\u001b[43m_incrementudc\u001b[49m\u001b[43m(\u001b[49m\u001b[43m)\u001b[49m\n\u001b[0;32m   2655\u001b[0m     \u001b[38;5;28;01mif\u001b[39;00m \u001b[38;5;28mself\u001b[39m\u001b[38;5;241m.\u001b[39mscreen\u001b[38;5;241m.\u001b[39m_updatecounter \u001b[38;5;241m!=\u001b[39m \u001b[38;5;241m0\u001b[39m:\n\u001b[0;32m   2656\u001b[0m         \u001b[38;5;28;01mreturn\u001b[39;00m\n",
      "File \u001b[1;32m~\\AppData\\Local\\Programs\\Python\\Python312\\Lib\\turtle.py:1284\u001b[0m, in \u001b[0;36mTurtleScreen._incrementudc\u001b[1;34m(self)\u001b[0m\n\u001b[0;32m   1282\u001b[0m \u001b[38;5;28;01mif\u001b[39;00m \u001b[38;5;129;01mnot\u001b[39;00m TurtleScreen\u001b[38;5;241m.\u001b[39m_RUNNING:\n\u001b[0;32m   1283\u001b[0m     TurtleScreen\u001b[38;5;241m.\u001b[39m_RUNNING \u001b[38;5;241m=\u001b[39m \u001b[38;5;28;01mTrue\u001b[39;00m\n\u001b[1;32m-> 1284\u001b[0m     \u001b[38;5;28;01mraise\u001b[39;00m Terminator\n\u001b[0;32m   1285\u001b[0m \u001b[38;5;28;01mif\u001b[39;00m \u001b[38;5;28mself\u001b[39m\u001b[38;5;241m.\u001b[39m_tracing \u001b[38;5;241m>\u001b[39m \u001b[38;5;241m0\u001b[39m:\n\u001b[0;32m   1286\u001b[0m     \u001b[38;5;28mself\u001b[39m\u001b[38;5;241m.\u001b[39m_updatecounter \u001b[38;5;241m+\u001b[39m\u001b[38;5;241m=\u001b[39m \u001b[38;5;241m1\u001b[39m\n",
      "\u001b[1;31mTerminator\u001b[0m: "
     ]
    }
   ],
   "source": [
    "# vẽ tam giác đều với cạnh và màu tùy ý\n",
    "import turtle\n",
    "edge_color = input(\"please input edge and color: \") \n",
    "\n",
    "e = int(edge_color[:edge_color.index(\" \")]) # sử dụng hàm index để tách lấy số đo cạnh\n",
    "\n",
    "print(e)\n",
    "color = edge_color[edge_color.index(\" \")+1:] # tách lấy chuỗi màu\n",
    "tr = turtle.Turtle()\n",
    "tr.shape(\"triangle\")\n",
    "tr.fillcolor(color)\n",
    "tr.shapesize(e,e,e)\n",
    "turtle.done()"
   ]
  },
  {
   "cell_type": "code",
   "execution_count": null,
   "id": "358b7033-dc33-4ddd-8873-789e38759a4f",
   "metadata": {},
   "outputs": [],
   "source": [
    "# vẽ một tam giác có 3 cạnh bất kỳ và 3 màu cạnh tương ứng, màu nền tùy ý\n",
    "import turtle\n",
    "import math\n",
    "tr = turtle.Turtle()\n",
    "a = int(input(\"please input edge 1: \"))\n",
    "color1 = input(\"please input color of edge1: \")\n",
    "b = int(input(\"please input edge 2: \"))\n",
    "color2 = input(\"please input color of edge 2: \")\n",
    "c = int(input(\"please input edge 3: \"))\n",
    "color3 = input(\"please input color of edge 3: \")\n",
    "colorfill = input(\"please input color of fill: \")\n",
    "\n",
    "# điều kiện để các cạnh là của một tam giác\n",
    "if (a+b>c)&(a+c>b)&(b+c>a)&(abs(a-b)<=c)&(abs(b-c)<=a)&(abs(c-a)<=b)&(a>0)&(b>0)&(c>0):\n",
    "    cosA = (a**2 - b**2 - c**2)/(2*b*c)\n",
    "    cosB = (b**2 - a**2 - c**2)/(2*a*c)\n",
    "    cosC = (c**2 - a**2 - b**2)/(2*a*b)\n",
    "else:\n",
    "    print(\"please input again!\")\n",
    "\n",
    "# sử dụng ma trận số liệu 4 chiều để tạo cạnh, màu và màu nền tương ứng\n",
    "pair0 = [cosA,color2,b]\n",
    "pair1 = [cosC,color1,a]\n",
    "pair2 = [cosB,color3,c]\n",
    "pair = [pair0,pair1,pair2]\n",
    "print(pair[0][0])\n",
    "tr.fillcolor(colorfill)\n",
    "tr.begin_fill()\n",
    "for i in range(3):\n",
    "    tr.rt(math.degrees(math.acos(pair[i][0])))\n",
    "    tr.pencolor(pair[i][1])\n",
    "    tr.fd(pair[i][2])\n",
    "tr.end_fill()\n",
    "turtle.done()"
   ]
  },
  {
   "cell_type": "code",
   "execution_count": 2,
   "id": "5eca216a-7fd3-44fd-b09b-b2281c316ba9",
   "metadata": {},
   "outputs": [
    {
     "ename": "AttributeError",
     "evalue": "'Turtle' object has no attribute 'my_draw_triangle'",
     "output_type": "error",
     "traceback": [
      "\u001b[1;31m---------------------------------------------------------------------------\u001b[0m",
      "\u001b[1;31mAttributeError\u001b[0m                            Traceback (most recent call last)",
      "Cell \u001b[1;32mIn[2], line 30\u001b[0m\n\u001b[0;32m     28\u001b[0m     turtle\u001b[38;5;241m.\u001b[39mdone()\n\u001b[0;32m     29\u001b[0m t \u001b[38;5;241m=\u001b[39m turtle\u001b[38;5;241m.\u001b[39mTurtle()\n\u001b[1;32m---> 30\u001b[0m \u001b[43mt\u001b[49m\u001b[38;5;241;43m.\u001b[39;49m\u001b[43mmy_draw_triangle\u001b[49m(\u001b[38;5;241m25\u001b[39m,\u001b[38;5;241m35\u001b[39m,\u001b[38;5;241m45\u001b[39m,red,green,blue,pink,t)\n",
      "\u001b[1;31mAttributeError\u001b[0m: 'Turtle' object has no attribute 'my_draw_triangle'"
     ]
    }
   ],
   "source": [
    "# tạo hàm vẽ tam giác với 3 cạnh, 3 màu, màu nền tùy ý\n",
    "import turtle\n",
    "import math\n",
    "tr = turtle.Turtle()\n",
    "def my_draw_triangle(a,b,c,color1,color2,color3,colorfill,tr):\n",
    " \n",
    "    # điều kiện để các cạnh là của một tam giác\n",
    "    if (a+b>c)&(a+c>b)&(b+c>a)&(abs(a-b)<=c)&(abs(b-c)<=a)&(abs(c-a)<=b)&(a>0)&(b>0)&(c>0):\n",
    "        cosA = (a**2 - b**2 - c**2)/(2*b*c)\n",
    "        cosB = (b**2 - a**2 - c**2)/(2*a*c)\n",
    "        cosC = (c**2 - a**2 - b**2)/(2*a*b)\n",
    "    else:\n",
    "        print(\"please input again!\")\n",
    "    \n",
    "    # sử dụng ma trận số liệu 4 chiều để tạo cạnh, màu và màu nền tương ứng\n",
    "    pair0 = [cosA,color2,b]\n",
    "    pair1 = [cosC,color1,a]\n",
    "    pair2 = [cosB,color3,c]\n",
    "    pair = [pair0,pair1,pair2]\n",
    "    print(pair[0][0])\n",
    "    tr.fillcolor(colorfill)\n",
    "    tr.begin_fill()\n",
    "    for i in range(3):\n",
    "        tr.rt(math.degrees(math.acos(pair[i][0])))\n",
    "        tr.pencolor(pair[i][1])\n",
    "        tr.fd(pair[i][2])\n",
    "    tr.end_fill()\n",
    "    turtle.done()\n",
    "t = turtle.Turtle()\n",
    "t = my_draw_triangle(25,35,45,red,green,blue,pink,t)"
   ]
  },
  {
   "cell_type": "code",
   "execution_count": null,
   "id": "1023a76a-b839-4d71-99eb-c94f798d4918",
   "metadata": {},
   "outputs": [],
   "source": []
  }
 ],
 "metadata": {
  "kernelspec": {
   "display_name": "Python 3 (ipykernel)",
   "language": "python",
   "name": "python3"
  },
  "language_info": {
   "codemirror_mode": {
    "name": "ipython",
    "version": 3
   },
   "file_extension": ".py",
   "mimetype": "text/x-python",
   "name": "python",
   "nbconvert_exporter": "python",
   "pygments_lexer": "ipython3",
   "version": "3.12.2"
  }
 },
 "nbformat": 4,
 "nbformat_minor": 5
}
